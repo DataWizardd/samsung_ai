{
 "cells": [
  {
   "cell_type": "markdown",
   "id": "73a39939-a011-4082-a0f7-a96c7e6e969a",
   "metadata": {},
   "source": [
    "# Library"
   ]
  },
  {
   "cell_type": "code",
   "execution_count": 1,
   "id": "fdb5daf2-e840-439e-9346-44c1405cfdc5",
   "metadata": {},
   "outputs": [],
   "source": [
    "import os\n",
    "import random\n",
    "import numpy as np\n",
    "import pandas as pd\n",
    "from ase.io import read\n",
    "import torch\n",
    "import torch.nn as nn\n",
    "import torch.optim as optim\n",
    "from torch.utils.data import Dataset, DataLoader, TensorDataset\n",
    "from tqdm.auto import tqdm\n",
    "import matplotlib.pyplot as plt\n",
    "\n",
    "np.set_printoptions(threshold=np.inf)\n",
    "def seed_everything(seed):\n",
    "    random.seed(seed)\n",
    "    np.random.seed(seed)\n",
    "    os.environ[\"PYTHONHASHSEED\"] = str(seed)\n",
    "    torch.manual_seed(seed)\n",
    "\n",
    "seed_everything(42) # Seed 고정"
   ]
  },
  {
   "cell_type": "markdown",
   "id": "1a8ac21e-1323-48b8-bc0f-c84aa1571d15",
   "metadata": {},
   "source": [
    "# Pre-processing"
   ]
  },
  {
   "cell_type": "code",
   "execution_count": 2,
   "id": "e3387b24-a3a5-457b-995b-89a38e6129b9",
   "metadata": {},
   "outputs": [
    {
     "name": "stdout",
     "output_type": "stream",
     "text": [
      "The number of data: 1500\n",
      "Atoms(symbols='Hf32O64', pbc=True, cell=[10.07550514, 9.97216976, 10.40475547], calculator=SinglePointCalculator(...))\n"
     ]
    }
   ],
   "source": [
    "# Train 데이터 및 Test 데이터 불러오기\n",
    "train_file_path = r'C:\\Users\\james\\DATA_LAB\\samsung\\data\\Train.xyz'\n",
    "test_file_path = r'C:\\Users\\james\\DATA_LAB\\samsung\\data\\Test.xyz'\n",
    "sample_file_path = r'C:\\Users\\james\\DATA_LAB\\samsung\\data\\sample_submission.csv'\n",
    "\n",
    "train = read(train_file_path, format='extxyz', index=':') # 전체 Train 데이터\n",
    "test = read(test_file_path, format='extxyz', index=':') # 전체 Test 데이터\n",
    "sample = pd.read_csv(sample_file_path) # 샘플 제출 파일 불러오기\n",
    "\n",
    "# Train 데이터 정보 출력\n",
    "print(f\"The number of data: {len(train)}\")\n",
    "print(train[0])  # 첫 번째 데이터 확인"
   ]
  },
  {
   "cell_type": "code",
   "execution_count": 3,
   "id": "cb8d3e75-65c4-4be0-be64-1b1477d782b2",
   "metadata": {},
   "outputs": [
    {
     "data": {
      "text/html": [
       "<div>\n",
       "<style scoped>\n",
       "    .dataframe tbody tr th:only-of-type {\n",
       "        vertical-align: middle;\n",
       "    }\n",
       "\n",
       "    .dataframe tbody tr th {\n",
       "        vertical-align: top;\n",
       "    }\n",
       "\n",
       "    .dataframe thead th {\n",
       "        text-align: right;\n",
       "    }\n",
       "</style>\n",
       "<table border=\"1\" class=\"dataframe\">\n",
       "  <thead>\n",
       "    <tr style=\"text-align: right;\">\n",
       "      <th></th>\n",
       "      <th>position_x</th>\n",
       "      <th>position_y</th>\n",
       "      <th>position_z</th>\n",
       "      <th>force</th>\n",
       "    </tr>\n",
       "  </thead>\n",
       "  <tbody>\n",
       "    <tr>\n",
       "      <th>0</th>\n",
       "      <td>2.230816</td>\n",
       "      <td>8.155257</td>\n",
       "      <td>6.391140</td>\n",
       "      <td>[0.08813055, -0.90894865, 1.04011568]</td>\n",
       "    </tr>\n",
       "    <tr>\n",
       "      <th>1</th>\n",
       "      <td>5.820498</td>\n",
       "      <td>5.539081</td>\n",
       "      <td>6.063752</td>\n",
       "      <td>[0.49469689, -0.23481429, 1.14418526]</td>\n",
       "    </tr>\n",
       "    <tr>\n",
       "      <th>2</th>\n",
       "      <td>0.649109</td>\n",
       "      <td>8.043429</td>\n",
       "      <td>9.162340</td>\n",
       "      <td>[-0.47646964, 1.67774442, -1.52065335]</td>\n",
       "    </tr>\n",
       "    <tr>\n",
       "      <th>3</th>\n",
       "      <td>7.276341</td>\n",
       "      <td>7.946647</td>\n",
       "      <td>9.368211</td>\n",
       "      <td>[0.70496183, 1.83900631, 1.37385827]</td>\n",
       "    </tr>\n",
       "    <tr>\n",
       "      <th>4</th>\n",
       "      <td>7.695766</td>\n",
       "      <td>7.129786</td>\n",
       "      <td>3.224149</td>\n",
       "      <td>[-0.09108712, -1.1645404, 1.44755996]</td>\n",
       "    </tr>\n",
       "  </tbody>\n",
       "</table>\n",
       "</div>"
      ],
      "text/plain": [
       "   position_x  position_y  position_z                                   force\n",
       "0    2.230816    8.155257    6.391140   [0.08813055, -0.90894865, 1.04011568]\n",
       "1    5.820498    5.539081    6.063752   [0.49469689, -0.23481429, 1.14418526]\n",
       "2    0.649109    8.043429    9.162340  [-0.47646964, 1.67774442, -1.52065335]\n",
       "3    7.276341    7.946647    9.368211    [0.70496183, 1.83900631, 1.37385827]\n",
       "4    7.695766    7.129786    3.224149   [-0.09108712, -1.1645404, 1.44755996]"
      ]
     },
     "execution_count": 3,
     "metadata": {},
     "output_type": "execute_result"
    }
   ],
   "source": [
    "# 데이터를 담을 리스트 초기화\n",
    "sequence_train, symbols, positions_x, positions_y, positions_z, forces, energies = [], [], [], [], [], [], []\n",
    "\n",
    "# Train 데이터 처리\n",
    "for i in range(len(train)):\n",
    "    mole = train[i]  # 각 분자 정보\n",
    "    atoms = len(mole)  # 원자 개수\n",
    "    sequence_train.append(atoms)  # 원자 개수 저장\n",
    "    \n",
    "    position = mole.get_positions()  # 원자 위치 정보\n",
    "    force = mole.get_forces()  # 힘 (force) 정보 - label 1\n",
    "    energy = mole.get_total_energy()  # 에너지 정보 - label 2\n",
    "    \n",
    "    energies.append(energy)  # 에너지 저장\n",
    "    \n",
    "    for j in range(len(mole)):  # 각 원자에 대한 위치 및 힘 정보 저장\n",
    "        positions_x.append(position[j][0])\n",
    "        positions_y.append(position[j][1])\n",
    "        positions_z.append(position[j][2])\n",
    "        forces.append(force[j])\n",
    "\n",
    "# Train 데이터를 DataFrame으로 생성\n",
    "train_df = pd.DataFrame({'position_x': positions_x, \n",
    "                         'position_y': positions_y, \n",
    "                         'position_z': positions_z, \n",
    "                         'force': forces})\n",
    "train_df.head()  # Train 데이터 확인"
   ]
  },
  {
   "cell_type": "code",
   "execution_count": 4,
   "id": "1fe40f87-c47c-4fda-8f85-83976bd6cdd2",
   "metadata": {},
   "outputs": [
    {
     "data": {
      "text/html": [
       "<div>\n",
       "<style scoped>\n",
       "    .dataframe tbody tr th:only-of-type {\n",
       "        vertical-align: middle;\n",
       "    }\n",
       "\n",
       "    .dataframe tbody tr th {\n",
       "        vertical-align: top;\n",
       "    }\n",
       "\n",
       "    .dataframe thead th {\n",
       "        text-align: right;\n",
       "    }\n",
       "</style>\n",
       "<table border=\"1\" class=\"dataframe\">\n",
       "  <thead>\n",
       "    <tr style=\"text-align: right;\">\n",
       "      <th></th>\n",
       "      <th>position_x</th>\n",
       "      <th>position_y</th>\n",
       "      <th>position_z</th>\n",
       "      <th>force</th>\n",
       "    </tr>\n",
       "  </thead>\n",
       "  <tbody>\n",
       "    <tr>\n",
       "      <th>0</th>\n",
       "      <td>3.434929</td>\n",
       "      <td>4.600871</td>\n",
       "      <td>6.329366</td>\n",
       "      <td>None</td>\n",
       "    </tr>\n",
       "    <tr>\n",
       "      <th>1</th>\n",
       "      <td>10.632562</td>\n",
       "      <td>3.276950</td>\n",
       "      <td>6.474922</td>\n",
       "      <td>None</td>\n",
       "    </tr>\n",
       "    <tr>\n",
       "      <th>2</th>\n",
       "      <td>3.438480</td>\n",
       "      <td>2.931912</td>\n",
       "      <td>2.621738</td>\n",
       "      <td>None</td>\n",
       "    </tr>\n",
       "    <tr>\n",
       "      <th>3</th>\n",
       "      <td>3.042868</td>\n",
       "      <td>6.105789</td>\n",
       "      <td>3.277181</td>\n",
       "      <td>None</td>\n",
       "    </tr>\n",
       "    <tr>\n",
       "      <th>4</th>\n",
       "      <td>2.527150</td>\n",
       "      <td>0.367885</td>\n",
       "      <td>0.119567</td>\n",
       "      <td>None</td>\n",
       "    </tr>\n",
       "  </tbody>\n",
       "</table>\n",
       "</div>"
      ],
      "text/plain": [
       "   position_x  position_y  position_z force\n",
       "0    3.434929    4.600871    6.329366  None\n",
       "1   10.632562    3.276950    6.474922  None\n",
       "2    3.438480    2.931912    2.621738  None\n",
       "3    3.042868    6.105789    3.277181  None\n",
       "4    2.527150    0.367885    0.119567  None"
      ]
     },
     "execution_count": 4,
     "metadata": {},
     "output_type": "execute_result"
    }
   ],
   "source": [
    "# Test 데이터를 담을 리스트 초기화\n",
    "sequence_test, positions_x, positions_y, positions_z = [], [], [], []\n",
    "\n",
    "# Test 데이터 처리\n",
    "for i in range(len(test)):\n",
    "    mole = test[i]  # 각 분자 정보\n",
    "    atoms = len(mole)  # 원자 개수\n",
    "    sequence_test.append(atoms)  # 원자 개수 저장\n",
    "    \n",
    "    position = mole.get_positions()  # 원자 위치 정보\n",
    "    \n",
    "    for j in range(len(mole)):  # 각 원자에 대한 위치 정보 저장\n",
    "        positions_x.append(position[j][0])\n",
    "        positions_y.append(position[j][1])\n",
    "        positions_z.append(position[j][2])\n",
    "\n",
    "# Test 데이터를 DataFrame으로 생성 (force는 없음)\n",
    "test_df = pd.DataFrame({'position_x': positions_x, \n",
    "                        'position_y': positions_y, \n",
    "                        'position_z': positions_z, \n",
    "                        'force': None})\n",
    "\n",
    "# Test 데이터 확인\n",
    "test_df.head()"
   ]
  },
  {
   "cell_type": "code",
   "execution_count": 8,
   "id": "7af2af34-bb35-4b7f-a358-5540f458f0a5",
   "metadata": {},
   "outputs": [
    {
     "data": {
      "text/html": [
       "<div>\n",
       "<style scoped>\n",
       "    .dataframe tbody tr th:only-of-type {\n",
       "        vertical-align: middle;\n",
       "    }\n",
       "\n",
       "    .dataframe tbody tr th {\n",
       "        vertical-align: top;\n",
       "    }\n",
       "\n",
       "    .dataframe thead th {\n",
       "        text-align: right;\n",
       "    }\n",
       "</style>\n",
       "<table border=\"1\" class=\"dataframe\">\n",
       "  <thead>\n",
       "    <tr style=\"text-align: right;\">\n",
       "      <th></th>\n",
       "      <th>position_x</th>\n",
       "      <th>position_y</th>\n",
       "      <th>position_z</th>\n",
       "      <th>fx</th>\n",
       "      <th>fy</th>\n",
       "      <th>fz</th>\n",
       "    </tr>\n",
       "  </thead>\n",
       "  <tbody>\n",
       "    <tr>\n",
       "      <th>0</th>\n",
       "      <td>2.230816</td>\n",
       "      <td>8.155257</td>\n",
       "      <td>6.391140</td>\n",
       "      <td>0.088131</td>\n",
       "      <td>-0.908949</td>\n",
       "      <td>1.040116</td>\n",
       "    </tr>\n",
       "    <tr>\n",
       "      <th>1</th>\n",
       "      <td>5.820498</td>\n",
       "      <td>5.539081</td>\n",
       "      <td>6.063752</td>\n",
       "      <td>0.494697</td>\n",
       "      <td>-0.234814</td>\n",
       "      <td>1.144185</td>\n",
       "    </tr>\n",
       "    <tr>\n",
       "      <th>2</th>\n",
       "      <td>0.649109</td>\n",
       "      <td>8.043429</td>\n",
       "      <td>9.162340</td>\n",
       "      <td>-0.476470</td>\n",
       "      <td>1.677744</td>\n",
       "      <td>-1.520653</td>\n",
       "    </tr>\n",
       "    <tr>\n",
       "      <th>3</th>\n",
       "      <td>7.276341</td>\n",
       "      <td>7.946647</td>\n",
       "      <td>9.368211</td>\n",
       "      <td>0.704962</td>\n",
       "      <td>1.839006</td>\n",
       "      <td>1.373858</td>\n",
       "    </tr>\n",
       "    <tr>\n",
       "      <th>4</th>\n",
       "      <td>7.695766</td>\n",
       "      <td>7.129786</td>\n",
       "      <td>3.224149</td>\n",
       "      <td>-0.091087</td>\n",
       "      <td>-1.164540</td>\n",
       "      <td>1.447560</td>\n",
       "    </tr>\n",
       "  </tbody>\n",
       "</table>\n",
       "</div>"
      ],
      "text/plain": [
       "   position_x  position_y  position_z        fx        fy        fz\n",
       "0    2.230816    8.155257    6.391140  0.088131 -0.908949  1.040116\n",
       "1    5.820498    5.539081    6.063752  0.494697 -0.234814  1.144185\n",
       "2    0.649109    8.043429    9.162340 -0.476470  1.677744 -1.520653\n",
       "3    7.276341    7.946647    9.368211  0.704962  1.839006  1.373858\n",
       "4    7.695766    7.129786    3.224149 -0.091087 -1.164540  1.447560"
      ]
     },
     "execution_count": 8,
     "metadata": {},
     "output_type": "execute_result"
    }
   ],
   "source": [
    "# force 값을 fx, fy, fz로 분리\n",
    "force_array = pd.DataFrame(train_df['force'].tolist(), columns=['fx', 'fy', 'fz'])\n",
    "\n",
    "# 기존 train_df에 fx, fy, fz 칼럼 추가\n",
    "train_df = pd.concat([train_df.drop(columns=['force']), force_array], axis=1)\n",
    "\n",
    "# 분리된 데이터 확인\n",
    "train_df.head()"
   ]
  },
  {
   "cell_type": "code",
   "execution_count": null,
   "id": "d26ff3ff-daa8-4c2c-804a-1f779d4d9cd2",
   "metadata": {},
   "outputs": [],
   "source": []
  },
  {
   "cell_type": "code",
   "execution_count": null,
   "id": "80772ba8-449f-4294-b73e-a8992d536031",
   "metadata": {},
   "outputs": [],
   "source": []
  },
  {
   "cell_type": "markdown",
   "id": "ec800da8-6328-4243-ba15-175934688a28",
   "metadata": {},
   "source": [
    "# [Force] Hyperparameter Setting"
   ]
  },
  {
   "cell_type": "code",
   "execution_count": 9,
   "id": "e405f8b5-dcfc-45e3-8245-92fc6b2aa4b0",
   "metadata": {},
   "outputs": [],
   "source": [
    "# 하이퍼파라미터\n",
    "input_size = 3  # feature 개수\n",
    "hidden_size = 256\n",
    "output_size = 3 # target 개수\n",
    "num_epochs = 3\n",
    "batch_size = 256\n",
    "learning_rate = 0.001"
   ]
  },
  {
   "cell_type": "markdown",
   "id": "b986fad0-cf6f-45b5-a8e4-0519ea50106a",
   "metadata": {},
   "source": [
    "# [Force] Dataset"
   ]
  },
  {
   "cell_type": "code",
   "execution_count": 10,
   "id": "9dc72170-bcb0-4e90-935e-475e1a31f635",
   "metadata": {},
   "outputs": [],
   "source": [
    "class ForceDataset(Dataset):\n",
    "    def __init__(self, df, mode='test'):\n",
    "        self.df = df\n",
    "        self.mode = mode\n",
    "    \n",
    "    def __len__(self):\n",
    "        return len(self.df)\n",
    "    \n",
    "    def __getitem__(self, idx):\n",
    "        # 위치 정보 가져오기\n",
    "        pos_x = self.df.loc[idx, 'position_x']\n",
    "        pos_y = self.df.loc[idx, 'position_y']\n",
    "        pos_z = self.df.loc[idx, 'position_z']\n",
    "        \n",
    "        inputs = torch.tensor([pos_x, pos_y, pos_z], dtype=torch.float32)\n",
    "        \n",
    "        # 테스트 데이터가 아닌 경우 (즉, 학습 데이터인 경우), force 값도 반환\n",
    "        if self.mode != 'test':\n",
    "            fx = self.df.loc[idx, 'fx']\n",
    "            fy = self.df.loc[idx, 'fy']\n",
    "            fz = self.df.loc[idx, 'fz']\n",
    "            label = torch.tensor([fx, fy, fz], dtype=torch.float32)\n",
    "            return inputs, label\n",
    "        else:\n",
    "            return inputs"
   ]
  },
  {
   "cell_type": "code",
   "execution_count": 11,
   "id": "8456af2d-156c-42aa-aa17-9750d7d04457",
   "metadata": {},
   "outputs": [
    {
     "name": "stdout",
     "output_type": "stream",
     "text": [
      "Input batch shape: torch.Size([256, 3])\n",
      "Label batch shape: torch.Size([256, 3])\n"
     ]
    }
   ],
   "source": [
    "# ForceDataset 클래스 사용\n",
    "train_dataset = ForceDataset(train_df, mode='train')  # 학습 데이터셋\n",
    "test_dataset = ForceDataset(test_df, mode='test')  # 테스트 데이터셋\n",
    "\n",
    "# DataLoader 설정\n",
    "train_loader = DataLoader(train_dataset, batch_size=batch_size, shuffle=True)\n",
    "test_loader = DataLoader(test_dataset, batch_size=batch_size, shuffle=False)\n",
    "\n",
    "# DataLoader 테스트 (첫 번째 배치 확인)\n",
    "for inputs, labels in train_loader:\n",
    "    print(f\"Input batch shape: {inputs.shape}\")\n",
    "    print(f\"Label batch shape: {labels.shape}\")\n",
    "    break"
   ]
  },
  {
   "cell_type": "markdown",
   "id": "75229217-e44c-4c74-a570-e02c0c0778f2",
   "metadata": {},
   "source": [
    "# Model"
   ]
  },
  {
   "cell_type": "code",
   "execution_count": 12,
   "id": "14b30a7f-13ae-4642-ad51-ccd66d627f39",
   "metadata": {},
   "outputs": [],
   "source": [
    "class ForceModel(nn.Module):\n",
    "    def __init__(self, input_size, hidden_size):\n",
    "        super(ForceModel, self).__init__()\n",
    "        \n",
    "        self.layers = nn.Sequential(\n",
    "            nn.Linear(input_size, hidden_size),\n",
    "            nn.BatchNorm1d(hidden_size),\n",
    "            nn.ReLU(),\n",
    "            nn.Dropout(0.5),\n",
    "            \n",
    "            nn.Linear(hidden_size, 128),\n",
    "            nn.BatchNorm1d(128),\n",
    "            nn.LeakyReLU(0.01),\n",
    "            nn.Dropout(0.5),\n",
    "            \n",
    "            nn.Linear(128, 64),\n",
    "            nn.BatchNorm1d(64),\n",
    "            nn.ReLU(),\n",
    "            nn.Dropout(0.5),\n",
    "            \n",
    "            nn.Linear(64, 3)\n",
    "        )\n",
    "    \n",
    "    def forward(self, x):\n",
    "        y = self.layers(x)\n",
    "        \n",
    "        return y"
   ]
  },
  {
   "cell_type": "code",
   "execution_count": 13,
   "id": "73e9a386-0964-465b-a0bf-dffb8ba6e7b7",
   "metadata": {},
   "outputs": [
    {
     "name": "stdout",
     "output_type": "stream",
     "text": [
      "current device is cpu\n"
     ]
    }
   ],
   "source": [
    "device = 'cuda' if torch.cuda.is_available() else 'cpu'\n",
    "print(f\"current device is {device}\")\n",
    "\n",
    "model = ForceModel(input_size, hidden_size).to(device)\n",
    "criterion = nn.MSELoss()\n",
    "optimizer = optim.Adam(model.parameters(), lr=learning_rate)"
   ]
  },
  {
   "cell_type": "markdown",
   "id": "b63c3b55-fb5c-4632-8920-41716afc914f",
   "metadata": {},
   "source": [
    "# [Force]Train"
   ]
  },
  {
   "cell_type": "code",
   "execution_count": null,
   "id": "6f84d3d4-2dec-4819-8492-4f00ffaafe09",
   "metadata": {},
   "outputs": [
    {
     "name": "stdout",
     "output_type": "stream",
     "text": [
      "Training Start!\n",
      "1/3 epoch..\n"
     ]
    },
    {
     "data": {
      "application/vnd.jupyter.widget-view+json": {
       "model_id": "50a69a831408477cbf4e286ffda75108",
       "version_major": 2,
       "version_minor": 0
      },
      "text/plain": [
       "  0%|          | 0/563 [00:00<?, ?it/s]"
      ]
     },
     "metadata": {},
     "output_type": "display_data"
    }
   ],
   "source": [
    "print(\"Training Start!\")\n",
    "\n",
    "model.train()\n",
    "for epoch in range(num_epochs):\n",
    "    print(f\"{epoch+1}/{num_epochs} epoch..\")\n",
    "    for inputs, labels in tqdm(train_loader):\n",
    "        optimizer.zero_grad()\n",
    "\n",
    "        inputs = inputs.to(device)\n",
    "        labels = labels.to(device)\n",
    "\n",
    "        outputs = model(inputs)\n",
    "        loss = criterion(outputs, labels)\n",
    "\n",
    "        loss.backward()\n",
    "        optimizer.step()\n",
    "\n",
    "print(\"Training Complete!\")"
   ]
  },
  {
   "cell_type": "code",
   "execution_count": 33,
   "id": "0ddf6e4b-796a-42ce-985b-3ce18f2937e0",
   "metadata": {},
   "outputs": [
    {
     "name": "stdout",
     "output_type": "stream",
     "text": [
      "Training Start!\n",
      "1/3 epoch..\n"
     ]
    },
    {
     "data": {
      "application/vnd.jupyter.widget-view+json": {
       "model_id": "922055d7ab064fd885c9d8a75e383c21",
       "version_major": 2,
       "version_minor": 0
      },
      "text/plain": [
       "  0%|          | 0/563 [00:00<?, ?it/s]"
      ]
     },
     "metadata": {},
     "output_type": "display_data"
    },
    {
     "name": "stderr",
     "output_type": "stream",
     "text": [
      "\n",
      "KeyboardInterrupt\n",
      "\n"
     ]
    }
   ],
   "source": [
    "# 손실 기록 리스트\n",
    "train_losses = []\n",
    "\n",
    "print(\"Training Start!\")\n",
    "\n",
    "model.train()\n",
    "for epoch in range(num_epochs):\n",
    "    running_loss = 0.0\n",
    "    print(f\"{epoch+1}/{num_epochs} epoch..\")\n",
    "    \n",
    "    for inputs, labels in tqdm(train_loader):\n",
    "        optimizer.zero_grad()\n",
    "\n",
    "        inputs = inputs.to(device)\n",
    "        labels = labels.to(device)\n",
    "\n",
    "        outputs = model(inputs)\n",
    "        loss = criterion(outputs, labels)\n",
    "\n",
    "        loss.backward()\n",
    "        optimizer.step()\n",
    "\n",
    "        running_loss += loss.item()\n",
    "\n",
    "    # 에포크별 평균 손실 기록\n",
    "    avg_loss = running_loss / len(train_loader)\n",
    "    train_losses.append(avg_loss)\n",
    "    print(f\"Epoch [{epoch+1}/{num_epochs}], Loss: {avg_loss:.4f}\")\n",
    "\n",
    "print(\"Training Complete!\")\n",
    "\n",
    "# 손실 그래프 그리기\n",
    "plt.plot(train_losses, label=\"Training Loss\")\n",
    "plt.xlabel(\"Epoch\")\n",
    "plt.ylabel(\"Loss\")\n",
    "plt.title(\"Training Loss Over Time\")\n",
    "plt.legend()\n",
    "plt.show()"
   ]
  },
  {
   "cell_type": "code",
   "execution_count": null,
   "id": "3f0a1a38-7d18-43e2-b906-589ef660b4cf",
   "metadata": {},
   "outputs": [],
   "source": []
  },
  {
   "cell_type": "code",
   "execution_count": null,
   "id": "9083ca31-75a7-4484-bad4-117ac3eeefdf",
   "metadata": {},
   "outputs": [],
   "source": []
  },
  {
   "cell_type": "code",
   "execution_count": null,
   "id": "22e3d004-24b2-4d1f-aabb-ea91c0ec8a75",
   "metadata": {},
   "outputs": [],
   "source": []
  },
  {
   "cell_type": "code",
   "execution_count": null,
   "id": "fc30f79e-969d-4add-bbbb-9ed789e94f9e",
   "metadata": {},
   "outputs": [],
   "source": []
  },
  {
   "cell_type": "code",
   "execution_count": null,
   "id": "490c707d-e5a7-4ed5-9377-92cb4d9bd3ae",
   "metadata": {},
   "outputs": [],
   "source": []
  },
  {
   "cell_type": "markdown",
   "id": "70b19508-ee89-4402-9f06-7ec62b0ad963",
   "metadata": {},
   "source": [
    "# [Force] Inference"
   ]
  },
  {
   "cell_type": "code",
   "execution_count": null,
   "id": "c0ed63cc-d153-4725-a468-7a14572da860",
   "metadata": {},
   "outputs": [],
   "source": [
    "print(\"Inference Start!\")\n",
    "\n",
    "model.eval()\n",
    "\n",
    "preds = []\n",
    "with torch.no_grad():\n",
    "    for inputs in tqdm(test_loader):\n",
    "        inputs = inputs.to(device)\n",
    "        outputs = model(inputs)\n",
    "\n",
    "        pred = outputs.detach().cpu().numpy()\n",
    "        preds.extend(pred)\n",
    "\n",
    "print(\"Inference Complete!\")\n",
    "len(preds)"
   ]
  },
  {
   "cell_type": "markdown",
   "id": "c964d863-b14e-46ce-90d3-a01ee28e78cc",
   "metadata": {},
   "source": [
    "# [Force]Submission"
   ]
  },
  {
   "cell_type": "code",
   "execution_count": null,
   "id": "0456fa84-be4f-4d49-bfb0-e88bc8932fd6",
   "metadata": {},
   "outputs": [],
   "source": [
    "test_df['force'] = preds # 예측 결과 저장\n",
    "\n",
    "# 한 분자가 몇 개의 원자로 이루어져 있는지에 따라 범위를 생성\n",
    "bundles_train, bundles_test = [], []\n",
    "\n",
    "flag = 0\n",
    "for size in sequence_train:\n",
    "    bundles_train.append((flag, flag+size))\n",
    "    flag += size\n",
    "\n",
    "flag = 0\n",
    "for size in sequence_test:\n",
    "    bundles_test.append((flag, flag+size))\n",
    "    flag += size\n",
    "\n",
    "preds_force = []\n",
    "\n",
    "for start, end in bundles_test:\n",
    "    preds_force.append(np.vstack(preds[start:end])) # 2차원 array로 저장\n",
    "\n",
    "sample['forces'] = preds_force\n",
    "sample"
   ]
  },
  {
   "cell_type": "code",
   "execution_count": null,
   "id": "cd97d977-25d1-4534-8ddd-1ce73c89dd52",
   "metadata": {},
   "outputs": [],
   "source": []
  },
  {
   "cell_type": "markdown",
   "id": "4d5c52c9-d8f9-442a-ac18-46094489cbad",
   "metadata": {},
   "source": [
    "# [Energy] Pre-processing¶"
   ]
  },
  {
   "cell_type": "code",
   "execution_count": null,
   "id": "4a00844c-2581-44a6-81d3-2fe343fe3350",
   "metadata": {},
   "outputs": [],
   "source": [
    "# 'force' 컬럼의 값을 분해하여 각각의 행으로 만듦\n",
    "force_df = train_df['force'].apply(pd.Series)\n",
    "force_df.columns = [f'force{i}' for i in range(3)]\n",
    "\n",
    "# 분해한 'force' 컬럼을 추가\n",
    "train_df = train_df.drop('force', axis=1).join(force_df)\n",
    "\n",
    "# 'force' 컬럼의 값을 분해하여 각각의 행으로 만듦\n",
    "force_df = test_df['force'].apply(pd.Series)\n",
    "force_df.columns = [f'force{i}' for i in range(3)]\n",
    "\n",
    "# 분해한 'force' 컬럼을 추가\n",
    "test_df = test_df.drop('force', axis=1).join(force_df)\n",
    "test_df.head()\n",
    "\n",
    "# 데이터프레임에서 값 추출\n",
    "sequences_train = [train_df.iloc[start:end].values for start, end in bundles_train]\n",
    "sequences_test = [test_df.iloc[start:end].values for start, end in bundles_test]"
   ]
  },
  {
   "cell_type": "markdown",
   "id": "baace201-6acf-4898-93c6-e5e7b40319eb",
   "metadata": {},
   "source": [
    "# [Energy] Hyperparameter Setting"
   ]
  },
  {
   "cell_type": "code",
   "execution_count": null,
   "id": "61ded28b-85f1-43d0-83a0-5ab074ba7831",
   "metadata": {},
   "outputs": [],
   "source": [
    "input_size = 6  # feature 개수\n",
    "hidden_size = 256\n",
    "output_size = 1 # target 개수\n",
    "num_epochs = 3\n",
    "batch_size = 64\n",
    "learning_rate = 0.001"
   ]
  },
  {
   "cell_type": "markdown",
   "id": "dec33577-0a2e-4ede-bf68-1f54b9f79b95",
   "metadata": {},
   "source": [
    "# [Energy] Dataset"
   ]
  },
  {
   "cell_type": "code",
   "execution_count": null,
   "id": "d2880e0b-4553-413a-9dc6-480ba6274221",
   "metadata": {},
   "outputs": [],
   "source": [
    "# 패딩을 사용하여 모든 시퀀스의 길이를 동일하게 만듦\n",
    "max_len = max(seq.shape[0] for seq in sequences_train)\n",
    "padded_sequences = [np.vstack([seq, np.zeros((max_len - seq.shape[0], 6))]) for seq in sequences_train]\n",
    "\n",
    "# 패딩된 시퀀스를 2차원 배열로 변환\n",
    "padded_array_train = np.stack(padded_sequences)\n",
    "X_tensor_train = torch.tensor(padded_array_train, dtype=torch.float32)\n",
    "y_tensor_train = torch.tensor(energies, dtype=torch.float32).view(-1, 1)\n",
    "train_dataset = TensorDataset(X_tensor_train, y_tensor_train)\n",
    "train_loader = DataLoader(train_dataset, batch_size=batch_size, shuffle=True)\n",
    "\n",
    "# 패딩을 사용하여 모든 시퀀스의 길이를 동일하게 만듦\n",
    "max_len = max(seq.shape[0] for seq in sequences_test)\n",
    "padded_sequences = [np.vstack([seq, np.zeros((max_len - seq.shape[0], 6))]) for seq in sequences_test]\n",
    "\n",
    "# 패딩된 시퀀스를 2차원 배열로 변환\n",
    "padded_array_test = np.stack(padded_sequences)\n",
    "X_tensor_test = torch.tensor(padded_array_test, dtype=torch.float32)\n",
    "test_dataset = TensorDataset(X_tensor_test)\n",
    "test_loader = DataLoader(test_dataset, batch_size=batch_size, shuffle=False)"
   ]
  },
  {
   "cell_type": "markdown",
   "id": "764be2b4-d5fa-4235-8cfe-d8706e214eec",
   "metadata": {},
   "source": [
    "# [Energy] Model"
   ]
  },
  {
   "cell_type": "code",
   "execution_count": null,
   "id": "a986e869-cf0e-4a36-abfe-96070a1d0bfd",
   "metadata": {},
   "outputs": [],
   "source": [
    "# BiLSTM 모델 정의\n",
    "class EnergyModel(nn.Module):\n",
    "    def __init__(self, input_size, hidden_size, num_layers=1, dropout_rate=0.5):\n",
    "        super(EnergyModel, self).__init__()\n",
    "        \n",
    "        # Bidirectional LSTM with Dropout\n",
    "        self.lstm = nn.LSTM(input_size, hidden_size, num_layers, \n",
    "                            batch_first=True, \n",
    "                            dropout=dropout_rate,\n",
    "                            bidirectional=True)\n",
    "        \n",
    "        # Bidirectional LSTM이므로 hidden_size 조정\n",
    "        self.fc1 = nn.Linear(hidden_size * 2, hidden_size)\n",
    "        self.fc2_mean = nn.Linear(hidden_size, 1)\n",
    "        self.fc2_variance = nn.Linear(hidden_size, 1)\n",
    "        self.relu = nn.ReLU()\n",
    "        self.batchnorm = nn.BatchNorm1d(hidden_size)\n",
    "        self.dropout = nn.Dropout(dropout_rate)\n",
    "        self.softplus = nn.Softplus()  \n",
    "        \n",
    "    def forward(self, x):\n",
    "        lstm_out, _ = self.lstm(x)\n",
    "        x = self.fc1(lstm_out[:, -1, :])\n",
    "        x = self.relu(x)\n",
    "        x = self.batchnorm(x)\n",
    "        x = self.dropout(x)\n",
    "\n",
    "        mean = self.fc2_mean(x)\n",
    "        variance = self.softplus(self.fc2_variance(x))\n",
    "        return mean, variance\n",
    "\n",
    "# 모델, 손실 함수, 옵티마이저 초기화\n",
    "model = EnergyModel(input_size, hidden_size).to(device)\n",
    "criterion = nn.GaussianNLLLoss() \n",
    "optimizer = optim.Adam(model.parameters(), lr=learning_rate)"
   ]
  },
  {
   "cell_type": "markdown",
   "id": "8ebe2614-18da-4e0b-b62d-0e1878eca647",
   "metadata": {},
   "source": [
    "# [Energy] Train"
   ]
  },
  {
   "cell_type": "code",
   "execution_count": null,
   "id": "3623d8b6-dd58-4455-9461-751cde5fccc0",
   "metadata": {},
   "outputs": [],
   "source": [
    "print(\"Training Start!!\")\n",
    "\n",
    "# 학습\n",
    "model.train()\n",
    "for epoch in range(num_epochs):\n",
    "    print(f\"{epoch+1}/{num_epochs} epoch..\")    \n",
    "    for inputs, labels in tqdm(train_loader):\n",
    "        inputs = inputs.to(device)\n",
    "        labels = labels.to(device)\n",
    "        \n",
    "        optimizer.zero_grad()\n",
    "        \n",
    "        mean, variance = model(inputs)\n",
    "\n",
    "        loss = criterion(mean, labels, variance) \n",
    "        \n",
    "        loss.backward()\n",
    "        optimizer.step()\n",
    "        \n",
    "print(\"Training Complete!\")     "
   ]
  },
  {
   "cell_type": "markdown",
   "id": "dd1d4dd8-568c-4b4a-96c5-34ddfbdafc69",
   "metadata": {},
   "source": [
    "# [Energy] Inference"
   ]
  },
  {
   "cell_type": "code",
   "execution_count": null,
   "id": "75113cf8-348e-443f-b091-c641aec99a58",
   "metadata": {},
   "outputs": [],
   "source": [
    "print(\"Inference Start!\")\n",
    "\n",
    "model.eval()\n",
    "\n",
    "preds_mean = []\n",
    "preds_variance = []\n",
    "with torch.no_grad():\n",
    "    for inputs in tqdm(test_loader):\n",
    "        inputs = inputs[0].to(device)\n",
    "\n",
    "        mean, variance = model(inputs)\n",
    "        pred_mean = mean.detach().cpu().numpy()\n",
    "        pred_variance = variance.detach().cpu().numpy()\n",
    "\n",
    "        preds_mean.extend(pred_mean)\n",
    "        preds_variance.extend(pred_variance)\n",
    "\n",
    "print(\"Inference Complete!\")    "
   ]
  },
  {
   "cell_type": "markdown",
   "id": "e180b16b-789f-4181-b6e0-ccc92beff3ba",
   "metadata": {},
   "source": [
    "# [Energy] Submission"
   ]
  },
  {
   "cell_type": "code",
   "execution_count": null,
   "id": "29bca3f1-e02e-4682-9fb9-40b0f5f8e913",
   "metadata": {},
   "outputs": [],
   "source": [
    "preds_mean = [pred.item() for pred in preds_mean]\n",
    "preds_variance = [pred.item() for pred in preds_variance]\n",
    "\n",
    "sample['energy'] = preds_mean\n",
    "sample['energy_uncertainty'] = preds_variance\n",
    "sample\n",
    "\n",
    "# forces 열을 리스트로 변환한 후 문자열로 저장\n",
    "sample['forces'] = sample['forces'].apply(lambda x: str(x.tolist()))\n",
    "\n",
    "sample.to_csv('./baseline.csv',index=False)"
   ]
  },
  {
   "cell_type": "code",
   "execution_count": null,
   "id": "b089440a-df9c-493b-b322-e170f979ecef",
   "metadata": {},
   "outputs": [],
   "source": []
  },
  {
   "cell_type": "code",
   "execution_count": null,
   "id": "99afd33a-b7af-4c13-b952-812a951ea3cb",
   "metadata": {},
   "outputs": [],
   "source": []
  },
  {
   "cell_type": "code",
   "execution_count": null,
   "id": "620e3776-211b-46f9-b7f7-fd35e448c794",
   "metadata": {},
   "outputs": [],
   "source": []
  },
  {
   "cell_type": "code",
   "execution_count": null,
   "id": "9b784e4f-4e47-49e2-93a9-a95ef9d52d34",
   "metadata": {},
   "outputs": [],
   "source": []
  }
 ],
 "metadata": {
  "kernelspec": {
   "display_name": "Python 3 (ipykernel)",
   "language": "python",
   "name": "python3"
  },
  "language_info": {
   "codemirror_mode": {
    "name": "ipython",
    "version": 3
   },
   "file_extension": ".py",
   "mimetype": "text/x-python",
   "name": "python",
   "nbconvert_exporter": "python",
   "pygments_lexer": "ipython3",
   "version": "3.11.7"
  }
 },
 "nbformat": 4,
 "nbformat_minor": 5
}
